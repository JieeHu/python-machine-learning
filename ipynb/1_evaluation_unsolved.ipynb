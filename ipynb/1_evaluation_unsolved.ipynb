{
 "cells": [
  {
   "cell_type": "markdown",
   "metadata": {},
   "source": [
    "# Evaluation metrics\n",
    "\n",
    "For this practical session you are expected to read through this notebook, and work on any exercises you encounter."
   ]
  },
  {
   "cell_type": "code",
   "execution_count": 22,
   "metadata": {
    "collapsed": false
   },
   "outputs": [
    {
     "name": "stdout",
     "output_type": "stream",
     "text": [
      "Populating the interactive namespace from numpy and matplotlib\n"
     ]
    }
   ],
   "source": [
    "# This line makes it so we can plot figures, you can ignore this.\n",
    "%pylab inline --no-import-all"
   ]
  },
  {
   "cell_type": "markdown",
   "metadata": {},
   "source": [
    "## Regression\n",
    "\n",
    "Regression is used to predict a (real) number. In the example in the cell below we have 12 data points in the variable *data*. The variables *prediction* and *alternative* are the predictions by two linear regression models fit to the data. In the plot you can see both predictions and the original data."
   ]
  },
  {
   "cell_type": "code",
   "execution_count": 23,
   "metadata": {
    "collapsed": false
   },
   "outputs": [
    {
     "name": "stderr",
     "output_type": "stream",
     "text": [
      "/usr/lib/python3/dist-packages/matplotlib/collections.py:571: FutureWarning: elementwise comparison failed; returning scalar instead, but in the future will perform elementwise comparison\n",
      "  if self._edgecolors == str('face'):\n"
     ]
    },
    {
     "data": {
      "image/png": "[encoded data removed]",
      "text/plain": [
       "<matplotlib.figure.Figure at 0x7f8a4df88780>"
      ]
     },
     "metadata": {},
     "output_type": "display_data"
    }
   ],
   "source": [
    "data = [0.6, 1.4, 2, 2.1, 2.5, 4, 5, 5.5, 6, 7.8, 8, 14]\n",
    "\n",
    "prediction = [ -0.41,   0.55,   1.52,   2.49,\n",
    "         3.46,   4.42,   5.39,   6.36,\n",
    "         7.33,   8.3 ,   9.27,  10.23]\n",
    "alternative = [-1.41, -0.25, 0.92, 2.09, \n",
    "        3.26, 4.42, 5.59, 6.76, 7.93, \n",
    "        9.1, 10.27, 11.43]\n",
    "\n",
    "plt.scatter(range(len(data)), data, label='Original data points')\n",
    "plt.plot(prediction, label='Prediction')\n",
    "plt.plot(alternative , label='Alternative prediction')\n",
    "plt.legend(loc='upper left')\n",
    "plt.show()"
   ]
  },
  {
   "cell_type": "markdown",
   "metadata": {},
   "source": [
    "Based on just the plot it might be difficult to decide whether the *prediction* or the *alternative* is better. Luckily we can calculate objective measures to determine which is better. \n",
    "\n",
    "### Exercise 1 \n",
    "Complete the two functions given in the next cell in a manner such that the correct MAE and MSE are printed correctly.\n",
    "\n",
    "**Hints:** \n",
    "- Using a for-loop (and optionally the [zip](https://docs.python.org/2/library/functions.html#zip) function) it should be fairly straightforward to write these functions. \n",
    "- A number can be squared in python by using * **2*, for example: 2**2=4\n",
    "- More information about the `format` function can be found at: https://pyformat.info/"
   ]
  },
  {
   "cell_type": "code",
   "execution_count": 24,
   "metadata": {
    "collapsed": false
   },
   "outputs": [
    {
     "name": "stdout",
     "output_type": "stream",
     "text": [
      "Prediction:\n",
      "\tMAE: 1.019\n",
      "\tMSE: 1.830\n",
      "\n",
      "Alternative:\n",
      "\tMAE: 1.321\n",
      "\tMSE: 2.316\n"
     ]
    }
   ],
   "source": [
    "def mean_absolute_error(y_true, y_pred):\n",
    "    \"\"\"A function which takes two lists and returns the MAE\"\"\"\n",
    "    \n",
    "\n",
    "\n",
    "    \n",
    "    \n",
    "def mean_squared_error(y_true, y_pred):\n",
    "    \"\"\"A function which takes two lists and returns the MSE\"\"\"\n",
    "   \n",
    "    \n",
    "print('Prediction:')\n",
    "print('\\tMAE: {:04.3f}'.format(mean_absolute_error(data, prediction)))\n",
    "print('\\tMSE: {:04.3f}'.format(mean_squared_error(data, prediction)))\n",
    "print('')\n",
    "print('Alternative:')\n",
    "print('\\tMAE: {:04.3f}'.format(mean_absolute_error(data, alternative)))\n",
    "print('\\tMSE: {:04.3f}'.format(mean_squared_error(data, alternative)))"
   ]
  },
  {
   "cell_type": "markdown",
   "metadata": {},
   "source": [
    "## Binary classification\n",
    "\n",
    "Binary classification is applicable when there are only two possible answers (e.g., yes/no, good/bad, positive/negative, etc.). In this notebook we will use *0* (not-spam/ham) and *1* (spam) as the possible outcomes.\n",
    "\n",
    "In the cell below we have for 100 emails whether they were determined to be spam by a user, in *is_spam*, and whether the spam filter thought they were spam (in *spam_filter*)."
   ]
  },
  {
   "cell_type": "code",
   "execution_count": 25,
   "metadata": {
    "collapsed": false
   },
   "outputs": [],
   "source": [
    "spam = [0, 0, 1, 0, 1, 0, 0, 1, 0, 0, 0, 0, 0, 0, 0, 1, 0, 0, 0, 0, 0, 0, 0, 0, 1, \n",
    "           0, 0, 0, 0, 0, 0, 0, 0, 1, 0, 1, 0, 0, 0, 0, 0, 0, 0, 0, 0, 0, 0, 0, 0, 0, \n",
    "           0, 1, 1, 1, 0, 1, 0, 0, 1, 0, 0, 0, 0, 0, 0, 0, 0, 0, 0, 0, 0, 0, 1, 0, 0, \n",
    "           0, 1, 0, 0, 0, 0, 0, 0, 0, 0, 0, 0, 0, 0, 1, 0, 1, 0, 0, 0, 0, 0, 1, 0, 0]\n",
    "\n",
    "flagged = [1, 0, 1, 0, 1, 0, 0, 0, 0, 0, 0, 0, 0, 0, 0, 1, 0, 0, 0, 0, 0, 0, 0, 0, 0,\n",
    "               0, 0, 0, 0, 0, 0, 0, 0, 0, 0, 0, 0, 0, 0, 0, 0, 0, 0, 0, 0, 0, 0, 0, 0, 0,\n",
    "               0, 1, 1, 0, 1, 1, 0, 0, 0, 0, 0, 0, 0, 0, 0, 0, 0, 0, 0, 0, 0, 0, 1, 0, 0,\n",
    "               0, 1, 0, 0, 0, 0, 0, 0, 0, 0, 0, 0, 0, 0, 1, 1, 1, 0, 0, 0, 0, 0, 1, 0, 0]"
   ]
  },
  {
   "cell_type": "markdown",
   "metadata": {},
   "source": [
    "### Exercise 2\n",
    "\n",
    "One way to evaluate how well our spam filter performed is to calculate the accuracy, this tells us how often it was correct. Complete the function in the next cell and use it to calculate the accuracy."
   ]
  },
  {
   "cell_type": "code",
   "execution_count": 26,
   "metadata": {
    "collapsed": false
   },
   "outputs": [
    {
     "name": "stdout",
     "output_type": "stream",
     "text": [
      "0.91\n"
     ]
    }
   ],
   "source": [
    "def accuracy(y_true, y_pred):\n",
    "    \"\"\"A function which takes two lists and returns the accuracy\"\"\"\n",
    "\n",
    "print(accuracy(spam, flagged))"
   ]
  },
  {
   "cell_type": "markdown",
   "metadata": {},
   "source": [
    "What would a potential downside of using accuracy? Think of spam classification in terms of True Positives (TP), False Positives (FP), True Negatives (TN), and False Negatives (FN), as in the table below. Are all these types of errors equally important?\n",
    "\n",
    "|                 | Predicted Not Spam | Predicted Spam |\n",
    "|-----------------|:------------------:|:--------------:|\n",
    "| Actual Not Spam |   TN               |  FP            |\n",
    "| Actual Spam     |   FN               |  TP            |\n",
    "\n",
    "A table like the one above is called a confusion matrix, or error matrix, and it allows you to visualise your model's performance. In our case we are interested in how our spam filter performed.\n",
    "\n",
    "### Exercise 3\n",
    "\n",
    "Complete the *confusion_matrix* and *confusion_accuracy* functions in the cell below, and check whether the value returned by *confusion_accuracy* is the same as the value returned by the *accuracy* function you created for exercise 2 using the code below the two functions.\n",
    "\n",
    "Hint: you can use nested lists to represent the confusion matrix: `[[0,0],[0,0]]`"
   ]
  },
  {
   "cell_type": "code",
   "execution_count": 27,
   "metadata": {
    "collapsed": false
   },
   "outputs": [
    {
     "name": "stdout",
     "output_type": "stream",
     "text": [
      "Looks good\n",
      "(80, 11, 3, 6)\n"
     ]
    }
   ],
   "source": [
    "def confusion_matrix(y_true, y_pred):\n",
    "    \"\"\"A function which takes two lists and returns a tuple of (TN, TP, FP, FN)\"\"\"\n",
    "\n",
    "    \n",
    "def confusion_accuracy(TN, TP, FP, FN):\n",
    "    \"\"\"A function which takes the four values from our confusion matrix and returns the accuracy\"\"\"\n",
    "   \n",
    "TN, TP, FP, FN = confusion_matrix(spam, flagged)\n",
    "if confusion_accuracy(TN, TP, FP, FN) != accuracy(spam, flagged):\n",
    "    print(\"Your accuracies are not the same, you probably have a bug in your code!\")\n",
    "else:\n",
    "    print(\"Looks good\")\n",
    "print(confusion_matrix(spam, flagged)    )"
   ]
  },
  {
   "cell_type": "markdown",
   "metadata": {},
   "source": [
    "Now that we have our confusion matrix we can calculate a number of other metrics, for this practical we will focus on precision and recall. \n",
    "\n",
    "### Exercise 4\n",
    "Complete the *precision* and *recall* functions given in the cell below."
   ]
  },
  {
   "cell_type": "code",
   "execution_count": 28,
   "metadata": {
    "collapsed": false
   },
   "outputs": [
    {
     "name": "stdout",
     "output_type": "stream",
     "text": [
      "0.79\n",
      "0.647\n"
     ]
    }
   ],
   "source": [
    "def precision(TP, FP):\n",
    "    \"\"\"A function which takes two arguments (TP, FP) and returns the precision\"\"\"\n",
    "    \n",
    "\n",
    "    \n",
    "def recall(TP, FN):\n",
    "    \"\"\"A function which takes two arguments (TP, FN) and returns the recall\"\"\"\n",
    "   \n",
    "    \n",
    "print(round(precision(TP, FP),2))\n",
    "print(round(recall(TP, FN), 3))"
   ]
  },
  {
   "cell_type": "markdown",
   "metadata": {},
   "source": [
    "Often we are interested in doing well on both the precision and recall, and as such we can calculate the (harmonic) mean of these metrics. This harmonic mean is called the F1-score.\n",
    "\n",
    "The F1-score is a specific case of the F_beta-score, and is the most widely used case.\n",
    "\n",
    "### Exercise 5\n",
    "\n",
    "Complete the *f_beta_score* function in the next cell such that the provided *f_score* function returns the correct value."
   ]
  },
  {
   "cell_type": "code",
   "execution_count": 29,
   "metadata": {
    "collapsed": false
   },
   "outputs": [
    {
     "name": "stdout",
     "output_type": "stream",
     "text": [
      "0.7096774193548386\n"
     ]
    }
   ],
   "source": [
    "def f_beta_score(precision, recall, beta=1):\n",
    "    \"\"\"A function which takes the precision and recall of some model, and a value for beta,\n",
    "    and returns the f_beta-score\"\"\"\n",
    "  \n",
    "    \n",
    "def f_score(precision, recall):\n",
    "  \n",
    "\n",
    "print(f_score(precision(TP, FP), recall(TP, FN)))"
   ]
  },
  {
   "cell_type": "markdown",
   "metadata": {},
   "source": [
    "Once you have a working *f_beta_score* function you can run the cell below. In this cell an example value is given for precision and recall, subsequently we create a plot for a number of beta values. Play around with different values of precision and recall, what is happening in this plot?"
   ]
  },
  {
   "cell_type": "code",
   "execution_count": 30,
   "metadata": {
    "collapsed": false
   },
   "outputs": [
    {
     "data": {
      "image/png": "[encoded data removed]",
      "text/plain": [
       "<matplotlib.figure.Figure at 0x7f8a4df23e48>"
      ]
     },
     "metadata": {},
     "output_type": "display_data"
    }
   ],
   "source": [
    "example_precision = 0.4\n",
    "example_recall = 0.6\n",
    "beta = [x*0.1 for x in range(0,10)]\n",
    "\n",
    "plt.plot(beta, [f_beta_score(example_precision, example_recall, beta=b) for b in beta])\n",
    "plt.xlabel('Value of beta')\n",
    "plt.ylabel('F-beta score')\n",
    "plt.show()"
   ]
  },
  {
   "cell_type": "markdown",
   "metadata": {},
   "source": [
    "## Multiclass classification \n",
    "\n",
    "Rather than just having two classes Spam and Non-Spam, we now have a third class, phishing emails. Think about how this changes how you would perform the evaluation, then make the exercises below."
   ]
  },
  {
   "cell_type": "code",
   "execution_count": 31,
   "metadata": {
    "collapsed": false
   },
   "outputs": [],
   "source": [
    "truth = [0, 0, 0, 0, 1, 0, 0, 0, 0, 0, 1, 0, 0, 0, 0, 0, 0,\n",
    "         2, 1, 1, 2, 2, 0, 0, 1, 0, 1, 1, 0, 0, 2, 1, 0, 1,\n",
    "         0, 0, 2, 0, 1, 0, 0, 1, 1, 0, 1, 1, 1, 1, 0, 0, 2,\n",
    "         0, 0, 2, 0, 1, 0, 0, 0, 1, 1, 1, 1, 2, 0, 0, 0, 0,\n",
    "         1, 0, 2, 0, 0, 0, 1, 2, 2, 1, 1, 0, 1, 1, 2, 1, 0,\n",
    "         0, 0, 0, 0, 0, 2, 0, 1, 0, 2, 1, 1, 1, 1, 1]\n",
    "\n",
    "predicted = [0, 0, 0, 0, 2, 0, 0, 0, 2, 0, 1, 2, 0, 0, 0, 0, 1,\n",
    "             2, 1, 1, 2, 0, 1, 2, 1, 0, 1, 1, 0, 0, 2, 1, 0, 0,\n",
    "             0, 1, 2, 0, 1, 0, 0, 1, 1, 0, 1, 1, 1, 1, 1, 0, 2,\n",
    "             0, 2, 2, 0, 1, 0, 0, 0, 1, 1, 1, 1, 2, 0, 0, 0, 0,\n",
    "             1, 0, 2, 0, 0, 0, 1, 2, 2, 1, 1, 2, 1, 1, 1, 1, 1,\n",
    "             0, 0, 0, 0, 0, 2, 0, 1, 1, 2, 1, 0, 1, 1, 2]"
   ]
  },
  {
   "cell_type": "markdown",
   "metadata": {},
   "source": [
    "### Exercise 6\n",
    "Given the data in the cell above, complete the *multi_class_confusion_matrix* function given in the next cell. Note that you now have to return the actual matrix, and not just the counts.\n",
    "\n",
    "**Hint:** Think back about how you wrote the confusion matrix in the binary case."
   ]
  },
  {
   "cell_type": "code",
   "execution_count": 32,
   "metadata": {
    "collapsed": false
   },
   "outputs": [
    {
     "name": "stdout",
     "output_type": "stream",
     "text": [
      "[[41, 6, 5], [2, 30, 2], [1, 1, 12]]\n"
     ]
    }
   ],
   "source": [
    "def multiclass_confusion_matrix(y_true, y_pred):\n",
    "    \"\"\"A function which takes two lists and returns a confusion matrix\"\"\"\n",
    "   \n",
    "    \n",
    "print(multiclass_confusion_matrix(truth, predicted))"
   ]
  },
  {
   "cell_type": "markdown",
   "metadata": {},
   "source": [
    "#### Advanced exercises\n",
    "The exercises beyond this point are more advanced, it is worthwhile to try and solve them, but there is no need for panic if you can't.\n",
    "\n",
    "------------------\n",
    "\n",
    "In the lecture we talked about using sets to calculate the TP, FP, and FN for a dataset. We can use sets in Python directly instead of first computing the confusion matrix.\n",
    "\n",
    "In Python you can create a set thus:\n",
    "\n",
    "``` a = set(['x','y','z']) ```\n",
    "    \n",
    "You can compute intersection of sets a and b thus:\n",
    "\n",
    "``` c = a.intersection(b) ```\n",
    "    \n",
    "You can compute the size of the set a thus:\n",
    "\n",
    "``` len(a) ```\n",
    "    \n",
    "You can compute the difference sets a and b thus:\n",
    "\n",
    "``` d = a - b ```\n",
    "    \n",
    "You can read more about sets in the Python documentation https://docs.python.org/3/tutorial/datastructures.html#sets"
   ]
  },
  {
   "cell_type": "markdown",
   "metadata": {},
   "source": [
    "### Exercise 7 - Advanced\n",
    "\n",
    "Complete the *class_scores* function in the next cell. If this function works correctly the code below it should print the precision, recall, and f-score for each of the classes.\n",
    "\n",
    "**Hint:** Our data consists of two lists of class labels, which are not unique, so we cannot convert them to sets directly. However, the emails are all in the same order, so we can use the position information to make sets. For example:\n",
    "\n",
    "``` really_spam = [i for (i,v) in enumerate(truth) if v == 1] ```\n",
    "\n",
    "or without list comprehension:\n",
    "\n",
    "``` really_spam = []\n",
    "for (i,v) in enumerate(truth):\n",
    "    if v == 1:\n",
    "    really_spam.append(i) ```\n",
    "    \n",
    "This creates a list of all the emails for which the true label is that it is spam. We could do the same for the predictions, and create sets out of these so we can perform the set operations needed."
   ]
  },
  {
   "cell_type": "code",
   "execution_count": 33,
   "metadata": {
    "collapsed": false
   },
   "outputs": [
    {
     "name": "stdout",
     "output_type": "stream",
     "text": [
      "class: 0\n",
      "\tPrecision: 0.932\n",
      "\tRecall: 0.788\n",
      "\tF-score: 0.854\n",
      "\n",
      "class: 1\n",
      "\tPrecision: 0.811\n",
      "\tRecall: 0.882\n",
      "\tF-score: 0.845\n",
      "\n",
      "class: 2\n",
      "\tPrecision: 0.632\n",
      "\tRecall: 0.857\n",
      "\tF-score: 0.727\n",
      "\n"
     ]
    }
   ],
   "source": [
    "def class_scores(y_true, y_pred, target):\n",
    "    \"\"\"Function which takes two lists and a target indicating which class \n",
    "    to calculate the TP, FP, and FN for.\"\"\"\n",
    "  \n",
    "\n",
    "for t in range(3): # Go over our three classes, 0=non-spam, 1=spam, 2=phishing\n",
    "    (TP, FP, FN) = class_scores(truth, predicted, t)\n",
    "    p = precision(TP, FP)\n",
    "    r = recall(TP, FN)\n",
    "    f = f_score(p, r)\n",
    "    \n",
    "    print('class: {:d}'.format(t))\n",
    "    print('\\tPrecision: {:04.3f}'.format(p))\n",
    "    print('\\tRecall: {:04.3f}'.format(r))\n",
    "    print('\\tF-score: {:04.3f}'.format(f))\n",
    "    print('')"
   ]
  },
  {
   "cell_type": "markdown",
   "metadata": {},
   "source": [
    "### Exercise 8 - Advanced\n",
    "\n",
    "In the cell above we calculated the metrics per class, but as we discussed in the lecture it is also possible to calculate macro and micro averaged versions of these metrics. Complete the functions *macro_averaged* and *micro_averaged* in the next cell."
   ]
  },
  {
   "cell_type": "code",
   "execution_count": 34,
   "metadata": {
    "collapsed": false
   },
   "outputs": [
    {
     "ename": "TypeError",
     "evalue": "format() argument after * must be a sequence, not NoneType",
     "output_type": "error",
     "traceback": [
      "\u001b[0;31m---------------------------------------------------------------------------\u001b[0m",
      "\u001b[0;31mTypeError\u001b[0m                                 Traceback (most recent call last)",
      "\u001b[0;32m<ipython-input-34-bdf1ebd26af6>\u001b[0m in \u001b[0;36m<module>\u001b[0;34m()\u001b[0m\n\u001b[1;32m     11\u001b[0m         \u001b[0;31m\\\u001b[0m\u001b[0mtPrecision\u001b[0m\u001b[0;34m:\u001b[0m \u001b[0;34m{\u001b[0m\u001b[0;34m:\u001b[0m\u001b[0;36m04.3\u001b[0m\u001b[0mf\u001b[0m\u001b[0;34m}\u001b[0m\u001b[0;34m\u001b[0m\u001b[0m\n\u001b[1;32m     12\u001b[0m         \u001b[0;31m\\\u001b[0m\u001b[0mtRecall\u001b[0m\u001b[0;34m:\u001b[0m \u001b[0;34m{\u001b[0m\u001b[0;34m:\u001b[0m\u001b[0;36m04.3\u001b[0m\u001b[0mf\u001b[0m\u001b[0;34m}\u001b[0m\u001b[0;34m\u001b[0m\u001b[0m\n\u001b[0;32m---> 13\u001b[0;31m         \\tF-score: {:04.3f}\"\"\".format(*macro_averaged(truth, predicted)))\n\u001b[0m\u001b[1;32m     14\u001b[0m \u001b[0mprint\u001b[0m\u001b[0;34m(\u001b[0m\u001b[0;34m''\u001b[0m\u001b[0;34m)\u001b[0m\u001b[0;34m\u001b[0m\u001b[0m\n\u001b[1;32m     15\u001b[0m print(\"\"\"Micro averaged metrics:\n",
      "\u001b[0;31mTypeError\u001b[0m: format() argument after * must be a sequence, not NoneType"
     ]
    }
   ],
   "source": [
    "def macro_averaged(y_true, y_pred):\n",
    "    \"\"\"Function which takes two lists and returns the macro averaged precision, recall, and f-score\"\"\"\n",
    "    \n",
    "    \n",
    "def micro_averaged(y_true, y_pred):\n",
    "    \"\"\"Function which takes two lists and returns the micro averaged precision, recall, and f-score\"\"\"\n",
    "    \n",
    "    \n",
    "\n",
    "print(\"\"\"Macro averaged metrics:\n",
    "        \\tPrecision: {:04.3f}\n",
    "        \\tRecall: {:04.3f}\n",
    "        \\tF-score: {:04.3f}\"\"\".format(*macro_averaged(truth, predicted)))\n",
    "print('')\n",
    "print(\"\"\"Micro averaged metrics:\n",
    "        \\tPrecision: {:04.3f}\n",
    "        \\tRecall: {:04.3f}\n",
    "        \\tF-score: {:04.3f}\"\"\".format(*micro_averaged(truth, predicted)))"
   ]
  },
  {
   "cell_type": "code",
   "execution_count": null,
   "metadata": {
    "collapsed": true
   },
   "outputs": [],
   "source": []
  }
 ],
 "metadata": {
  "kernelspec": {
   "display_name": "Python 3",
   "language": "python",
   "name": "python3"
  },
  "language_info": {
   "codemirror_mode": {
    "name": "ipython",
    "version": 3
   },
   "file_extension": ".py",
   "mimetype": "text/x-python",
   "name": "python",
   "nbconvert_exporter": "python",
   "pygments_lexer": "ipython3",
   "version": "3.4.2"
  }
 },
 "nbformat": 4,
 "nbformat_minor": 0
}
