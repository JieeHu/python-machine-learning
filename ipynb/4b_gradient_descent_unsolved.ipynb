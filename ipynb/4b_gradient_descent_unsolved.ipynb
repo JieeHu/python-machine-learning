{
 "cells": [
  {
   "cell_type": "code",
   "execution_count": 4,
   "metadata": {
    "collapsed": false
   },
   "outputs": [
    {
     "name": "stdout",
     "output_type": "stream",
     "text": [
      "Populating the interactive namespace from numpy and matplotlib\n"
     ]
    }
   ],
   "source": [
    "%pylab inline --no-import-all"
   ]
  },
  {
   "cell_type": "markdown",
   "metadata": {},
   "source": [
    "# Function minimization\n",
    "\n",
    "At this week's lecture we discussed how learning a set of parameters can be treated as the task of minimizing an error function. Scipy privides a number of ways of finding minima of functions. We'll test of one them"
   ]
  },
  {
   "cell_type": "code",
   "execution_count": 5,
   "metadata": {
    "collapsed": true
   },
   "outputs": [],
   "source": [
    "import numpy\n",
    "from scipy.optimize import fmin_bfgs, fmin"
   ]
  },
  {
   "cell_type": "markdown",
   "metadata": {},
   "source": [
    "The function `fmin_bfgs` uses the method called \n",
    "[BFGS](https://en.wikipedia.org/wiki/Broyden%E2%80%93Fletcher%E2%80%93Goldfarb%E2%80%93Shanno_algorithm).\n",
    "We need to give it the following arguments:\n",
    "- f: the function to minimize\n",
    "- x0: the initial guess of the argument with respect to which we're minimizing\n",
    "- fprime: the first derivative of f. If we omit it, `fmin_bfgs` will use a numerical approximatiom\n",
    "\n",
    "For example, consider the following polynomial function: $f(x) = x^4 - 10x^3 + x^2 + x - 4$\n",
    "\n"
   ]
  },
  {
   "cell_type": "code",
   "execution_count": 6,
   "metadata": {
    "collapsed": true
   },
   "outputs": [],
   "source": [
    "def f(x):\n",
    "    return x**4 - 10*x**3 + x**2 + x -4"
   ]
  },
  {
   "cell_type": "code",
   "execution_count": 9,
   "metadata": {
    "collapsed": false
   },
   "outputs": [
    {
     "data": {
      "text/plain": [
       "[<matplotlib.lines.Line2D at 0x7f517864c748>]"
      ]
     },
     "execution_count": 9,
     "metadata": {},
     "output_type": "execute_result"
    },
    {
     "data": {
      "image/png": "[encoded data removed]",
      "text/plain": [
       "<matplotlib.figure.Figure at 0x7f51786882b0>"
      ]
     },
     "metadata": {},
     "output_type": "display_data"
    }
   ],
   "source": [
    "x = numpy.linspace(-2,10,1000)\n",
    "pylab.plot(x,f(x))\n"
   ]
  },
  {
   "cell_type": "markdown",
   "metadata": {},
   "source": [
    "Let's find the minimum, using 0 as a starting point:"
   ]
  },
  {
   "cell_type": "code",
   "execution_count": 10,
   "metadata": {
    "collapsed": false
   },
   "outputs": [
    {
     "name": "stdout",
     "output_type": "stream",
     "text": [
      "Optimization terminated successfully.\n",
      "         Current function value: -4.093250\n",
      "         Iterations: 5\n",
      "         Function evaluations: 24\n",
      "         Gradient evaluations: 8\n",
      "[-0.15101746]\n"
     ]
    }
   ],
   "source": [
    "print(fmin_bfgs(f, x0=0))"
   ]
  },
  {
   "cell_type": "markdown",
   "metadata": {},
   "source": [
    "We can suppress the messages using disp=False:"
   ]
  },
  {
   "cell_type": "code",
   "execution_count": 11,
   "metadata": {
    "collapsed": false
   },
   "outputs": [
    {
     "name": "stdout",
     "output_type": "stream",
     "text": [
      "[-0.15101746]\n"
     ]
    }
   ],
   "source": [
    "print(fmin_bfgs(f, x0=0, disp=False))"
   ]
  },
  {
   "cell_type": "markdown",
   "metadata": {},
   "source": [
    "### Exercise 5.1\n",
    "Looks like we got stuck in a local miniumum. Print the minima findable from the following starting points: -2, 0, 2, 6, 10"
   ]
  },
  {
   "cell_type": "code",
   "execution_count": 7,
   "metadata": {
    "collapsed": false
   },
   "outputs": [
    {
     "name": "stdout",
     "output_type": "stream",
     "text": [
      "Staring at -2 found minimum at [-0.15101775]\n",
      "Staring at 0 found minimum at [-0.15101746]\n",
      "Staring at 2 found minimum at [ 7.42815758]\n",
      "Staring at 6 found minimum at [ 7.42815774]\n",
      "Staring at 10 found minimum at [ 7.4281578]\n"
     ]
    }
   ],
   "source": [
    "# .............................\n"
   ]
  },
  {
   "cell_type": "markdown",
   "metadata": {},
   "source": [
    "\n",
    "We can also use `fmin_bfgs` to minimize functions which take vectors rather than single numbers. For example, let's find the $x_1$ and $x_2$ which minimize the function $g(\\mathbf{x}) = x_1^2 + x_2^2$."
   ]
  },
  {
   "cell_type": "code",
   "execution_count": 8,
   "metadata": {
    "collapsed": false
   },
   "outputs": [
    {
     "name": "stdout",
     "output_type": "stream",
     "text": [
      "Starting at [1 1] found minimum at [ -1.07505143e-08  -1.07505143e-08]\n"
     ]
    }
   ],
   "source": [
    "def g(x):\n",
    "    return numpy.sum(x**2)\n",
    "x0 = numpy.array([1,1])\n",
    "print(\"Starting at {} found minimum at {}\".format(x0, fmin_bfgs(g, x0=x0, disp=False)))"
   ]
  },
  {
   "cell_type": "markdown",
   "metadata": {},
   "source": [
    "### Exercise 5.2\n",
    "\n",
    "In this exercise we will regress the fourth feature of the iris dataset agains the first three, using error function minimization. First prepare the data:"
   ]
  },
  {
   "cell_type": "code",
   "execution_count": 9,
   "metadata": {
    "collapsed": false
   },
   "outputs": [],
   "source": [
    "from sklearn.datasets import load_iris\n",
    "from sklearn.model_selection import train_test_split\n",
    "iris = load_iris()\n",
    "X_train, X_val, y_train, y_val = train_test_split(iris.data[:,:3], iris.data[:,3], test_size=1/3, random_state=666)"
   ]
  },
  {
   "cell_type": "markdown",
   "metadata": {},
   "source": [
    "Now define the error function:"
   ]
  },
  {
   "cell_type": "code",
   "execution_count": 10,
   "metadata": {
    "collapsed": false
   },
   "outputs": [],
   "source": [
    "def error(wb):\n",
    "    '''Returns the error as a function of intercept and coefficients'''\n",
    "    # We'll get the intercept as the fist element of wb, and the coefficients as the rest\n",
    "    b = wb[0]\n",
    "    w = wb[1:]\n",
    "    # complete the function by returning the sum squared error \n",
    "    # .........................................\n",
    "   "
   ]
  },
  {
   "cell_type": "markdown",
   "metadata": {},
   "source": [
    "Let's define a starting point for the intercept and coefficients"
   ]
  },
  {
   "cell_type": "code",
   "execution_count": 11,
   "metadata": {
    "collapsed": true
   },
   "outputs": [],
   "source": [
    "# First item is the intercept b, the rest the coefficients w\n",
    "wb0 = numpy.array([0.0, 0.0, 0.0, 0.0])\n",
    "#................................"
   ]
  },
  {
   "cell_type": "markdown",
   "metadata": {},
   "source": [
    "Now we are ready to find the values which minimize the error."
   ]
  },
  {
   "cell_type": "code",
   "execution_count": 12,
   "metadata": {
    "collapsed": false
   },
   "outputs": [
    {
     "name": "stdout",
     "output_type": "stream",
     "text": [
      "Optimization terminated successfully.\n",
      "         Current function value: 2.860360\n",
      "         Iterations: 5\n",
      "         Function evaluations: 54\n",
      "         Gradient evaluations: 9\n",
      "[-0.27899142 -0.22846333  0.2540934   0.53891499]\n"
     ]
    }
   ],
   "source": [
    "wb_min = fmin_bfgs(error, x0=wb0)\n",
    "print(wb_min)"
   ]
  },
  {
   "cell_type": "markdown",
   "metadata": {},
   "source": [
    "Let's check how well these parameters do on validation data, in terms of mean absolute error and r-squared. "
   ]
  },
  {
   "cell_type": "code",
   "execution_count": 13,
   "metadata": {
    "collapsed": false
   },
   "outputs": [
    {
     "name": "stdout",
     "output_type": "stream",
     "text": [
      "0.167757997158\n",
      "0.914864382486\n"
     ]
    }
   ],
   "source": [
    "from sklearn.metrics import r2_score, mean_absolute_error\n",
    "# ..........................................\n",
    "\n"
   ]
  },
  {
   "cell_type": "markdown",
   "metadata": {},
   "source": [
    "We can compare these results with the classic implementation of linear regression"
   ]
  },
  {
   "cell_type": "code",
   "execution_count": 14,
   "metadata": {
    "collapsed": false
   },
   "outputs": [
    {
     "name": "stdout",
     "output_type": "stream",
     "text": [
      "(-0.27899585678465177, array([-0.22846195,  0.25409292,  0.53891441]))\n",
      "0.167758010212\n",
      "0.914864399764\n"
     ]
    }
   ],
   "source": [
    "from sklearn.linear_model import LinearRegression\n",
    "#.........................\n"
   ]
  },
  {
   "cell_type": "markdown",
   "metadata": {},
   "source": [
    "## Stochastic Gradient Descent\n",
    "\n",
    "Scikit learn provides two classes `SGDRegressor` and `SGDClassifier` which use stochastic gradient descent to carry out linear regression and classification respectively.\n",
    "\n",
    "These models are especially useful in these situations:\n",
    "- with very large datasets\n",
    "- with streaming data (they support online learning)\n",
    "- with datasets with sparse features\n",
    "\n",
    "SGD is sensitive to learning rate and the scale of the features. It's advisable to z-score the features, and to tune the learning rate."
   ]
  },
  {
   "cell_type": "code",
   "execution_count": 15,
   "metadata": {
    "collapsed": true
   },
   "outputs": [],
   "source": [
    "from sklearn.linear_model import SGDRegressor\n",
    "from sklearn.preprocessing import StandardScaler"
   ]
  },
  {
   "cell_type": "markdown",
   "metadata": {},
   "source": [
    "We'll use the dataset of 50,000 songs. The prediction task is to guess the year the song was made based on 90 timbre features extracted from the audio. The year is in the first column."
   ]
  },
  {
   "cell_type": "code",
   "execution_count": 17,
   "metadata": {
    "collapsed": false
   },
   "outputs": [],
   "source": [
    "songs = numpy.load(\"songs50k.npy\")\n",
    "X_train, X_val, y_train, y_val = train_test_split(songs[:,1:], songs[:,0], test_size=1/3, random_state=666)"
   ]
  },
  {
   "cell_type": "markdown",
   "metadata": {},
   "source": [
    "### Exercise 5.3\n",
    "\n",
    "Train and evaluate the SGD classifier on the songs dataset. Take the following steps:\n",
    "- z-score the training and validation features\n",
    "- find a good set of options related to the learning rate and the number of iterations, according to:\n",
    "  - r-squared on validation data \n",
    "  - mean absolute error on validation data"
   ]
  },
  {
   "cell_type": "code",
   "execution_count": 18,
   "metadata": {
    "collapsed": true
   },
   "outputs": [],
   "source": [
    "# .........................................\n"
   ]
  },
  {
   "cell_type": "code",
   "execution_count": 19,
   "metadata": {
    "collapsed": false
   },
   "outputs": [
    {
     "name": "stdout",
     "output_type": "stream",
     "text": [
      "('constant', 1e-05, 5, 377.32239506868206, -1280.4988745664509)\n",
      "('constant', 1e-05, 10, 71.318893501736866, -45.55457698212939)\n",
      "('constant', 1e-05, 50, 6.7206660430561289, 0.21006297232402293)\n",
      "('constant', 0.0001, 5, 6.7552439908788076, 0.20507505576959972)\n",
      "('constant', 0.0001, 10, 6.7549449113502904, 0.20769168079868339)\n",
      "('constant', 0.0001, 50, 6.7310788206587731, 0.20899418721668572)\n",
      "('constant', 0.001, 5, 7.075076440525347, 0.15984736302556612)\n",
      "('constant', 0.001, 10, 7.0033483448744525, 0.16013721262387826)\n",
      "('constant', 0.001, 50, 7.0569015788517904, 0.15406307224909199)\n",
      "('constant', 0.01, 5, 90158067960.919235, -1.5148066821158014e+20)\n",
      "('constant', 0.01, 10, 223108229521.78864, -9.6789738275351639e+20)\n",
      "('constant', 0.01, 50, 136967154465.31032, -3.6161857866836083e+20)\n",
      "('constant', 0.1, 5, 3375831007998.2964, -2.094275424205043e+23)\n",
      "('constant', 0.1, 10, 4196318318169.7217, -3.2242088249958225e+23)\n",
      "('constant', 0.1, 50, 3817202538418.0493, -2.905324868082042e+23)\n",
      "('optimal', 1e-05, 5, 2175674618252.7292, -9.1619072805100201e+22)\n",
      "('optimal', 1e-05, 10, 1229495535872.3823, -2.6783939814862331e+22)\n",
      "('optimal', 1e-05, 50, 472354353.89121795, -4231250804720579.0)\n",
      "('optimal', 0.0001, 5, 2175674618252.7292, -9.1619072805100201e+22)\n",
      "('optimal', 0.0001, 10, 1229495535872.3823, -2.6783939814862331e+22)\n",
      "('optimal', 0.0001, 50, 472354353.89121795, -4231250804720579.0)\n",
      "('optimal', 0.001, 5, 2175674618252.7292, -9.1619072805100201e+22)\n",
      "('optimal', 0.001, 10, 1229495535872.3823, -2.6783939814862331e+22)\n",
      "('optimal', 0.001, 50, 472354353.89121795, -4231250804720579.0)\n",
      "('optimal', 0.01, 5, 2175674618252.7292, -9.1619072805100201e+22)\n",
      "('optimal', 0.01, 10, 1229495535872.3823, -2.6783939814862331e+22)\n",
      "('optimal', 0.01, 50, 472354353.89121795, -4231250804720579.0)\n",
      "('optimal', 0.1, 5, 2175674618252.7292, -9.1619072805100201e+22)\n",
      "('optimal', 0.1, 10, 1229495535872.3823, -2.6783939814862331e+22)\n",
      "('optimal', 0.1, 50, 472354353.89121795, -4231250804720579.0)\n",
      "('invscaling', 1e-05, 5, 1790.3683811622066, -28831.300535871447)\n",
      "('invscaling', 1e-05, 10, 1661.0332696007088, -24816.205139499158)\n",
      "('invscaling', 1e-05, 50, 1076.7670320120212, -10428.399967112029)\n",
      "('invscaling', 0.0001, 5, 665.28895242770341, -3981.0546188332687)\n",
      "('invscaling', 0.0001, 10, 314.32436580047181, -888.51222845415236)\n",
      "('invscaling', 0.0001, 50, 8.4163943321568517, 0.044637149376165475)\n",
      "('invscaling', 0.001, 5, 6.9122748681064143, 0.17634949293650803)\n",
      "('invscaling', 0.001, 10, 6.7687057038388909, 0.20410111635370942)\n",
      "('invscaling', 0.001, 50, 6.7234034941315866, 0.21018459677239287)\n",
      "('invscaling', 0.01, 5, 6.8830944511310097, 0.19277270571818739)\n",
      "('invscaling', 0.01, 10, 6.8142072499606829, 0.19739300928885628)\n",
      "('invscaling', 0.01, 50, 6.7571420301203178, 0.2027476069858537)\n",
      "('invscaling', 0.1, 5, 9.8895674835951617, -0.70301046371337628)\n",
      "('invscaling', 0.1, 10, 8.92197922325688, -0.3187128927835543)\n",
      "('invscaling', 0.1, 50, 8.056098387414524, -0.072515537179933975)\n",
      "Best settings according to MAE ('constant', 1e-05, 50, 6.7206660430561289, 0.21006297232402293)\n",
      "Best settings according to R2 ('invscaling', 0.001, 50, 6.7234034941315866, 0.21018459677239287)\n"
     ]
    }
   ],
   "source": [
    "# .....................................\n"
   ]
  },
  {
   "cell_type": "markdown",
   "metadata": {},
   "source": [
    "### Exercise 5.4\n",
    "\n",
    "By default SGDRegressor tries to minimize the standard linear regression error function, that is sum of squared error. However this can be changed, via the `loss=` parameter. When `loss='squared_loss'`, sum of squared errors will be used. Other error functions available include [Huber loss](https://en.wikipedia.org/wiki/Huber_loss) (`loss='huber'`). Compared to squared loss, huber focuses less on outliers.\n",
    "![](https://upload.wikimedia.org/wikipedia/commons/thumb/c/cc/Huber_loss.svg/600px-Huber_loss.svg.png)\n",
    "\n",
    "Repeat the steps from the previous exercise, but include the tuning of the loss function."
   ]
  },
  {
   "cell_type": "code",
   "execution_count": null,
   "metadata": {
    "collapsed": true
   },
   "outputs": [],
   "source": []
  }
 ],
 "metadata": {
  "kernelspec": {
   "display_name": "Python 3",
   "language": "python",
   "name": "python3"
  },
  "language_info": {
   "codemirror_mode": {
    "name": "ipython",
    "version": 3
   },
   "file_extension": ".py",
   "mimetype": "text/x-python",
   "name": "python",
   "nbconvert_exporter": "python",
   "pygments_lexer": "ipython3",
   "version": "3.4.2"
  }
 },
 "nbformat": 4,
 "nbformat_minor": 0
}
