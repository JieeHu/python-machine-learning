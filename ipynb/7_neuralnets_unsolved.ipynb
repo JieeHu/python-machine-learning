{
 "cells": [
  {
   "cell_type": "markdown",
   "metadata": {},
   "source": [
    "# Introduction to neural networks\n"
   ]
  },
  {
   "cell_type": "markdown",
   "metadata": {},
   "source": [
    "In this session we will start with a simple toy implementation of a neural network and apply it to the XOR problem. In the second part we will learn how to use the [Keras toolkit](https://keras.io/) to define, train and use practical neural network model."
   ]
  },
  {
   "cell_type": "markdown",
   "metadata": {},
   "source": [
    "## XOR\n",
    "\n",
    "Let's start with the [XOR problem](https://en.wikipedia.org/wiki/XOR_gate). "
   ]
  },
  {
   "cell_type": "code",
   "execution_count": 1,
   "metadata": {
    "collapsed": false
   },
   "outputs": [
    {
     "name": "stdout",
     "output_type": "stream",
     "text": [
      "Populating the interactive namespace from numpy and matplotlib\n"
     ]
    }
   ],
   "source": [
    "import numpy\n",
    "%pylab inline --no-import-all"
   ]
  },
  {
   "cell_type": "markdown",
   "metadata": {},
   "source": [
    "### Exercise 7.1\n",
    "Define the function `xor`, which which takes a Nx2 array, where each row is an input to the logical XOR. It outputs an array of size N with the corresponding outputs."
   ]
  },
  {
   "cell_type": "code",
   "execution_count": 2,
   "metadata": {
    "collapsed": true
   },
   "outputs": [],
   "source": [
    "def xor(X):\n",
    "    #.........\n",
    "    "
   ]
  },
  {
   "cell_type": "code",
   "execution_count": 39,
   "metadata": {
    "collapsed": false
   },
   "outputs": [
    {
     "name": "stdout",
     "output_type": "stream",
     "text": [
      "[0 1 1 0]\n"
     ]
    }
   ],
   "source": [
    "X = numpy.array([[0, 0],      # FALSE\n",
    "                 [0, 1],      # TRUE\n",
    "                 [1, 0],      # TRUE\n",
    "                 [1, 1]])     # FALSE\n",
    "y = xor(X)\n",
    "print(y)"
   ]
  },
  {
   "cell_type": "code",
   "execution_count": 40,
   "metadata": {
    "collapsed": false
   },
   "outputs": [
    {
     "data": {
      "text/plain": [
       "<matplotlib.collections.PathCollection at 0x7fb7f2c0a358>"
      ]
     },
     "execution_count": 40,
     "metadata": {},
     "output_type": "execute_result"
    },
    {
     "name": "stderr",
     "output_type": "stream",
     "text": [
      "/usr/lib/python3/dist-packages/matplotlib/collections.py:571: FutureWarning: elementwise comparison failed; returning scalar instead, but in the future will perform elementwise comparison\n",
      "  if self._edgecolors == str('face'):\n"
     ]
    },
    {
     "data": {
      "image/png": "[encoded data removed]",
      "text/plain": [
       "<matplotlib.figure.Figure at 0x7fb7f2cc97b8>"
      ]
     },
     "metadata": {},
     "output_type": "display_data"
    }
   ],
   "source": [
    "pylab.scatter(X[:,0], X[:,1], c=y, s=200)"
   ]
  },
  {
   "cell_type": "markdown",
   "metadata": {},
   "source": [
    "## Neural network\n",
    "We can define a simple two layer neural network by hand which solves the XOR classification problem. The network has parameters $\\mathbf{W}$ and $\\mathbf{U}$, and computes the following:\n",
    "\n",
    "$$Y = \\sigma(U(\\sigma(WX^T))$$\n",
    "\n",
    "Where $\\mathbf{X}$ is the input array, with shape Nx2, $\\mathbf{W}$ is a 2x2 matrix, and $\\mathbf{U}$ is a 1x2 matrix. The result is a 1xN matrix (i.e. a single row vector) of XOR values.\n",
    "\n",
    "### Exercise 7.2\n",
    "\n",
    "Define function `sigma` which returns one if the input is greater than or equal to 0.5, and zero otherwise."
   ]
  },
  {
   "cell_type": "code",
   "execution_count": 41,
   "metadata": {
    "collapsed": true
   },
   "outputs": [],
   "source": [
    "def sigma(X):\n",
    "    #...............\n",
    "    "
   ]
  },
  {
   "cell_type": "code",
   "execution_count": 42,
   "metadata": {
    "collapsed": false
   },
   "outputs": [
    {
     "name": "stdout",
     "output_type": "stream",
     "text": [
      "[[ 0.45668192  0.08832069]\n",
      " [ 0.36929726  0.37415085]\n",
      " [ 0.42966176  0.50814711]]\n",
      "[[ 0.  0.]\n",
      " [ 0.  0.]\n",
      " [ 0.  1.]]\n"
     ]
    }
   ],
   "source": [
    "z = numpy.random.uniform(0,1,(3,2))\n",
    "print(z)\n",
    "print(sigma(z))"
   ]
  },
  {
   "cell_type": "markdown",
   "metadata": {},
   "source": [
    "### Exercise 7.3\n",
    "\n",
    "Define function `nnet` which takes the weight matrices W and U, and the input X, and returns the result Y computed according to the formula above."
   ]
  },
  {
   "cell_type": "code",
   "execution_count": 43,
   "metadata": {
    "collapsed": false
   },
   "outputs": [],
   "source": [
    "def nnet(W,U,X):\n",
    "    #..........................................\n",
    "    "
   ]
  },
  {
   "cell_type": "markdown",
   "metadata": {},
   "source": [
    "Define the weights:"
   ]
  },
  {
   "cell_type": "code",
   "execution_count": 44,
   "metadata": {
    "collapsed": false
   },
   "outputs": [],
   "source": [
    "W = numpy.array([[1,-1],\n",
    "                 [-1,1]])\n",
    "U = numpy.array([1,1])"
   ]
  },
  {
   "cell_type": "markdown",
   "metadata": {},
   "source": [
    "Check what it outputs"
   ]
  },
  {
   "cell_type": "code",
   "execution_count": 45,
   "metadata": {
    "collapsed": false
   },
   "outputs": [
    {
     "name": "stdout",
     "output_type": "stream",
     "text": [
      "[0 1 1 0]\n",
      "[ 0.  1.  1.  0.]\n"
     ]
    }
   ],
   "source": [
    "y_pred = nnet(W, U, X)\n",
    "print(y)\n",
    "print(y_pred)\n"
   ]
  },
  {
   "cell_type": "markdown",
   "metadata": {},
   "source": [
    "And plot the outputs as a function of inputs."
   ]
  },
  {
   "cell_type": "code",
   "execution_count": 46,
   "metadata": {
    "collapsed": false
   },
   "outputs": [
    {
     "data": {
      "text/plain": [
       "([], <a list of 0 Text yticklabel objects>)"
      ]
     },
     "execution_count": 46,
     "metadata": {},
     "output_type": "execute_result"
    },
    {
     "name": "stderr",
     "output_type": "stream",
     "text": [
      "/usr/lib/python3/dist-packages/matplotlib/collections.py:571: FutureWarning: elementwise comparison failed; returning scalar instead, but in the future will perform elementwise comparison\n",
      "  if self._edgecolors == str('face'):\n"
     ]
    },
    {
     "data": {
      "image/png": "[encoded data removed]",
      "text/plain": [
       "<matplotlib.figure.Figure at 0x7fb7f2d61a20>"
      ]
     },
     "metadata": {},
     "output_type": "display_data"
    }
   ],
   "source": [
    "# Create a grid of points for plotting\n",
    "shape=(20,20)\n",
    "grid = numpy.array([ [i,j] for i in numpy.linspace(0,1,shape[0]) \n",
    "                               for j in numpy.linspace(0,1,shape[1]) ])\n",
    "# Apply the neural net to all the points\n",
    "y_pred = nnet(W, U, grid)\n",
    "pylab.pcolor(y_pred.reshape((20,20)))\n",
    "pylab.colorbar()\n",
    "pylab.xticks([])\n",
    "pylab.yticks([])"
   ]
  },
  {
   "cell_type": "markdown",
   "metadata": {},
   "source": [
    "## Training XOR NN with Keras\n",
    "\n",
    "We'll now learn how to build a simple neural network in Keras. "
   ]
  },
  {
   "cell_type": "code",
   "execution_count": 47,
   "metadata": {
    "collapsed": false
   },
   "outputs": [],
   "source": [
    "from keras.models import Sequential\n",
    "from keras.layers.core import Dense, Dropout, Activation\n",
    "from keras.optimizers import Adam\n",
    "\n",
    "model = Sequential()\n",
    "# Add two hidden layers with 4 hidden units each, and the tanh activation.\n",
    "\n",
    "model.add(Dense(4, input_dim=2, activation='tanh'))\n",
    "model.add(Dense(4, activation='tanh'))\n",
    "\n",
    "# The final layer is the output layer with an inverse logit activation function.\n",
    "model.add(Dense(1, activation='sigmoid'))\n",
    "\n",
    "# Use the Adam optimizer. Adam works similar to regular SGD, \n",
    "# but with some important improvements. \n",
    "optimizer = Adam(lr=0.01)\n",
    "model.compile(optimizer=optimizer, loss='binary_crossentropy')"
   ]
  },
  {
   "cell_type": "markdown",
   "metadata": {},
   "source": [
    "We can now train the model, specifying number of epochs, size of the minibatch, and whether to print extra information."
   ]
  },
  {
   "cell_type": "code",
   "execution_count": 48,
   "metadata": {
    "collapsed": false
   },
   "outputs": [
    {
     "name": "stdout",
     "output_type": "stream",
     "text": [
      "Epoch 1/100\n",
      "4/4 [==============================] - 0s - loss: 0.7566     \n",
      "Epoch 2/100\n",
      "4/4 [==============================] - 0s - loss: 0.7268     \n",
      "Epoch 3/100\n",
      "4/4 [==============================] - 0s - loss: 0.7113     \n",
      "Epoch 4/100\n",
      "4/4 [==============================] - 0s - loss: 0.6974     \n",
      "Epoch 5/100\n",
      "4/4 [==============================] - 0s - loss: 0.6874     \n",
      "Epoch 6/100\n",
      "4/4 [==============================] - 0s - loss: 0.6850     \n",
      "Epoch 7/100\n",
      "4/4 [==============================] - 0s - loss: 0.6735     \n",
      "Epoch 8/100\n",
      "4/4 [==============================] - 0s - loss: 0.6702     \n",
      "Epoch 9/100\n",
      "4/4 [==============================] - 0s - loss: 0.6609     \n",
      "Epoch 10/100\n",
      "4/4 [==============================] - 0s - loss: 0.6523     \n",
      "Epoch 11/100\n",
      "4/4 [==============================] - 0s - loss: 0.6459     \n",
      "Epoch 12/100\n",
      "4/4 [==============================] - 0s - loss: 0.6398     \n",
      "Epoch 13/100\n",
      "4/4 [==============================] - 0s - loss: 0.6354     \n",
      "Epoch 14/100\n",
      "4/4 [==============================] - 0s - loss: 0.6351     \n",
      "Epoch 15/100\n",
      "4/4 [==============================] - 0s - loss: 0.6279     \n",
      "Epoch 16/100\n",
      "4/4 [==============================] - 0s - loss: 0.6207     \n",
      "Epoch 17/100\n",
      "4/4 [==============================] - 0s - loss: 0.6130     \n",
      "Epoch 18/100\n",
      "4/4 [==============================] - 0s - loss: 0.6098     \n",
      "Epoch 19/100\n",
      "4/4 [==============================] - 0s - loss: 0.6063     \n",
      "Epoch 20/100\n",
      "4/4 [==============================] - 0s - loss: 0.6023     \n",
      "Epoch 21/100\n",
      "4/4 [==============================] - 0s - loss: 0.5982     \n",
      "Epoch 22/100\n",
      "4/4 [==============================] - 0s - loss: 0.5921     \n",
      "Epoch 23/100\n",
      "4/4 [==============================] - 0s - loss: 0.5879     \n",
      "Epoch 24/100\n",
      "4/4 [==============================] - 0s - loss: 0.5811     \n",
      "Epoch 25/100\n",
      "4/4 [==============================] - 0s - loss: 0.5791     \n",
      "Epoch 26/100\n",
      "4/4 [==============================] - 0s - loss: 0.5730     \n",
      "Epoch 27/100\n",
      "4/4 [==============================] - 0s - loss: 0.5662     \n",
      "Epoch 28/100\n",
      "4/4 [==============================] - 0s - loss: 0.5635     \n",
      "Epoch 29/100\n",
      "4/4 [==============================] - 0s - loss: 0.5584     \n",
      "Epoch 30/100\n",
      "4/4 [==============================] - 0s - loss: 0.5543     \n",
      "Epoch 31/100\n",
      "4/4 [==============================] - 0s - loss: 0.5485     \n",
      "Epoch 32/100\n",
      "4/4 [==============================] - 0s - loss: 0.5428     \n",
      "Epoch 33/100\n",
      "4/4 [==============================] - 0s - loss: 0.5413     \n",
      "Epoch 34/100\n",
      "4/4 [==============================] - 0s - loss: 0.5364     \n",
      "Epoch 35/100\n",
      "4/4 [==============================] - 0s - loss: 0.5301     \n",
      "Epoch 36/100\n",
      "4/4 [==============================] - 0s - loss: 0.5296     \n",
      "Epoch 37/100\n",
      "4/4 [==============================] - 0s - loss: 0.5220     \n",
      "Epoch 38/100\n",
      "4/4 [==============================] - 0s - loss: 0.5169     \n",
      "Epoch 39/100\n",
      "4/4 [==============================] - 0s - loss: 0.5148     \n",
      "Epoch 40/100\n",
      "4/4 [==============================] - 0s - loss: 0.5085     \n",
      "Epoch 41/100\n",
      "4/4 [==============================] - 0s - loss: 0.5041     \n",
      "Epoch 42/100\n",
      "4/4 [==============================] - 0s - loss: 0.5023     \n",
      "Epoch 43/100\n",
      "4/4 [==============================] - 0s - loss: 0.4988     \n",
      "Epoch 44/100\n",
      "4/4 [==============================] - 0s - loss: 0.4930     \n",
      "Epoch 45/100\n",
      "4/4 [==============================] - 0s - loss: 0.4890     \n",
      "Epoch 46/100\n",
      "4/4 [==============================] - 0s - loss: 0.4846     \n",
      "Epoch 47/100\n",
      "4/4 [==============================] - 0s - loss: 0.4812     \n",
      "Epoch 48/100\n",
      "4/4 [==============================] - 0s - loss: 0.4769     \n",
      "Epoch 49/100\n",
      "4/4 [==============================] - 0s - loss: 0.4720     \n",
      "Epoch 50/100\n",
      "4/4 [==============================] - 0s - loss: 0.4718     \n",
      "Epoch 51/100\n",
      "4/4 [==============================] - 0s - loss: 0.4684     \n",
      "Epoch 52/100\n",
      "4/4 [==============================] - 0s - loss: 0.4633     \n",
      "Epoch 53/100\n",
      "4/4 [==============================] - 0s - loss: 0.4583     \n",
      "Epoch 54/100\n",
      "4/4 [==============================] - 0s - loss: 0.4549     \n",
      "Epoch 55/100\n",
      "4/4 [==============================] - 0s - loss: 0.4521     \n",
      "Epoch 56/100\n",
      "4/4 [==============================] - 0s - loss: 0.4478     \n",
      "Epoch 57/100\n",
      "4/4 [==============================] - 0s - loss: 0.4469     \n",
      "Epoch 58/100\n",
      "4/4 [==============================] - 0s - loss: 0.4441     \n",
      "Epoch 59/100\n",
      "4/4 [==============================] - 0s - loss: 0.4378     \n",
      "Epoch 60/100\n",
      "4/4 [==============================] - 0s - loss: 0.4356     \n",
      "Epoch 61/100\n",
      "4/4 [==============================] - 0s - loss: 0.4311     \n",
      "Epoch 62/100\n",
      "4/4 [==============================] - 0s - loss: 0.4269     \n",
      "Epoch 63/100\n",
      "4/4 [==============================] - 0s - loss: 0.4226     \n",
      "Epoch 64/100\n",
      "4/4 [==============================] - 0s - loss: 0.4212     \n",
      "Epoch 65/100\n",
      "4/4 [==============================] - 0s - loss: 0.4155     \n",
      "Epoch 66/100\n",
      "4/4 [==============================] - 0s - loss: 0.4101     \n",
      "Epoch 67/100\n",
      "4/4 [==============================] - 0s - loss: 0.4075     \n",
      "Epoch 68/100\n",
      "4/4 [==============================] - 0s - loss: 0.4010     \n",
      "Epoch 69/100\n",
      "4/4 [==============================] - 0s - loss: 0.3957     \n",
      "Epoch 70/100\n",
      "4/4 [==============================] - 0s - loss: 0.3926     \n",
      "Epoch 71/100\n",
      "4/4 [==============================] - 0s - loss: 0.3852     \n",
      "Epoch 72/100\n",
      "4/4 [==============================] - 0s - loss: 0.3771     \n",
      "Epoch 73/100\n",
      "4/4 [==============================] - 0s - loss: 0.3718     \n",
      "Epoch 74/100\n",
      "4/4 [==============================] - 0s - loss: 0.3650     \n",
      "Epoch 75/100\n",
      "4/4 [==============================] - 0s - loss: 0.3555     \n",
      "Epoch 76/100\n",
      "4/4 [==============================] - 0s - loss: 0.3508     \n",
      "Epoch 77/100\n",
      "4/4 [==============================] - 0s - loss: 0.3429     \n",
      "Epoch 78/100\n",
      "4/4 [==============================] - 0s - loss: 0.3343     \n",
      "Epoch 79/100\n",
      "4/4 [==============================] - 0s - loss: 0.3234     \n",
      "Epoch 80/100\n",
      "4/4 [==============================] - 0s - loss: 0.3111     \n",
      "Epoch 81/100\n",
      "4/4 [==============================] - 0s - loss: 0.3071     \n",
      "Epoch 82/100\n",
      "4/4 [==============================] - 0s - loss: 0.2944     \n",
      "Epoch 83/100\n",
      "4/4 [==============================] - 0s - loss: 0.2830     \n",
      "Epoch 84/100\n",
      "4/4 [==============================] - 0s - loss: 0.2702     \n",
      "Epoch 85/100\n",
      "4/4 [==============================] - 0s - loss: 0.2619     \n",
      "Epoch 86/100\n",
      "4/4 [==============================] - 0s - loss: 0.2514     \n",
      "Epoch 87/100\n",
      "4/4 [==============================] - 0s - loss: 0.2416     \n",
      "Epoch 88/100\n",
      "4/4 [==============================] - 0s - loss: 0.2303     \n",
      "Epoch 89/100\n",
      "4/4 [==============================] - 0s - loss: 0.2219     \n",
      "Epoch 90/100\n",
      "4/4 [==============================] - 0s - loss: 0.2135     \n",
      "Epoch 91/100\n",
      "4/4 [==============================] - 0s - loss: 0.2045     \n",
      "Epoch 92/100\n",
      "4/4 [==============================] - 0s - loss: 0.1964     \n",
      "Epoch 93/100\n",
      "4/4 [==============================] - 0s - loss: 0.1885     \n",
      "Epoch 94/100\n",
      "4/4 [==============================] - 0s - loss: 0.1794     \n",
      "Epoch 95/100\n",
      "4/4 [==============================] - 0s - loss: 0.1729     \n",
      "Epoch 96/100\n",
      "4/4 [==============================] - 0s - loss: 0.1634     \n",
      "Epoch 97/100\n",
      "4/4 [==============================] - 0s - loss: 0.1586     \n",
      "Epoch 98/100\n",
      "4/4 [==============================] - 0s - loss: 0.1512     \n",
      "Epoch 99/100\n",
      "4/4 [==============================] - 0s - loss: 0.1470     \n",
      "Epoch 100/100\n",
      "4/4 [==============================] - 0s - loss: 0.1397     \n"
     ]
    },
    {
     "data": {
      "text/plain": [
       "<keras.callbacks.History at 0x7fb7f28aacc0>"
      ]
     },
     "execution_count": 48,
     "metadata": {},
     "output_type": "execute_result"
    }
   ],
   "source": [
    "model.fit(X, y, epochs=100, batch_size=1, verbose=1)"
   ]
  },
  {
   "cell_type": "code",
   "execution_count": 49,
   "metadata": {
    "collapsed": false
   },
   "outputs": [
    {
     "data": {
      "text/plain": [
       "array([[ 0.05815018],\n",
       "       [ 0.88036031],\n",
       "       [ 0.79122895],\n",
       "       [ 0.11128785]], dtype=float32)"
      ]
     },
     "execution_count": 49,
     "metadata": {},
     "output_type": "execute_result"
    }
   ],
   "source": [
    "model.predict(X)"
   ]
  },
  {
   "cell_type": "code",
   "execution_count": 50,
   "metadata": {
    "collapsed": false
   },
   "outputs": [
    {
     "data": {
      "text/plain": [
       "([], <a list of 0 Text yticklabel objects>)"
      ]
     },
     "execution_count": 50,
     "metadata": {},
     "output_type": "execute_result"
    },
    {
     "name": "stderr",
     "output_type": "stream",
     "text": [
      "/usr/lib/python3/dist-packages/matplotlib/collections.py:571: FutureWarning: elementwise comparison failed; returning scalar instead, but in the future will perform elementwise comparison\n",
      "  if self._edgecolors == str('face'):\n"
     ]
    },
    {
     "data": {
      "image/png": "[encoded data removed]",
      "text/plain": [
       "<matplotlib.figure.Figure at 0x7fb80abce6d8>"
      ]
     },
     "metadata": {},
     "output_type": "display_data"
    }
   ],
   "source": [
    "# Apply the neural net to all the points\n",
    "y_pred = model.predict(grid)\n",
    "pylab.pcolor(y_pred.reshape((20,20)))\n",
    "pylab.colorbar()\n",
    "pylab.xticks([])\n",
    "pylab.yticks([])"
   ]
  },
  {
   "cell_type": "markdown",
   "metadata": {},
   "source": [
    "## Regression with NN on iris\n",
    "\n",
    "We will now define and train a neural network model for regression on the iris data.\n",
    "\n",
    "### Load data"
   ]
  },
  {
   "cell_type": "code",
   "execution_count": 51,
   "metadata": {
    "collapsed": false
   },
   "outputs": [
    {
     "name": "stdout",
     "output_type": "stream",
     "text": [
      "(100, 3)\n",
      "(100,)\n"
     ]
    }
   ],
   "source": [
    "from sklearn.model_selection import train_test_split\n",
    "from sklearn.datasets import load_iris\n",
    "data = load_iris()\n",
    "# Inputs\n",
    "X = numpy.array(data.data[:,0:3], dtype='float32')\n",
    "# Output\n",
    "y = numpy.array(data.data[:,3], dtype='float32')\n",
    "\n",
    "\n",
    "X_train, X_val, y_train, y_val = train_test_split(X, y, test_size=1/3, random_state=999)\n",
    "print(X_train.shape)\n",
    "print(y_train.shape)"
   ]
  },
  {
   "cell_type": "markdown",
   "metadata": {},
   "source": [
    "### Exercise 7.4\n",
    "\n",
    "\n",
    "Define a multilayer perceptron with the following specifications:\n",
    "- Hidden layer 1: size 16, activation: tanh\n",
    "- Hidden layer 2: size 16, activation: tanh\n",
    "- Output layer: size 1, activation: linear\n",
    "\n",
    "Compile it using the following specifications:\n",
    "- optimizer: Adam\n",
    "- loss: mean squared error\n",
    "\n",
    "Train the network, and try to find a good value of learning rate by monitoring the loss.\n",
    "\n",
    "Compute mean absolute error and r-squared the validation data."
   ]
  },
  {
   "cell_type": "code",
   "execution_count": 57,
   "metadata": {
    "collapsed": false
   },
   "outputs": [
    {
     "name": "stdout",
     "output_type": "stream",
     "text": [
      "Epoch 1/20\n",
      "0s - loss: 2.0960\n",
      "Epoch 2/20\n",
      "0s - loss: 1.0082\n",
      "Epoch 3/20\n",
      "0s - loss: 0.5607\n",
      "Epoch 4/20\n",
      "0s - loss: 0.3876\n",
      "Epoch 5/20\n",
      "0s - loss: 0.3034\n",
      "Epoch 6/20\n",
      "0s - loss: 0.2505\n",
      "Epoch 7/20\n",
      "0s - loss: 0.2060\n",
      "Epoch 8/20\n",
      "0s - loss: 0.1695\n",
      "Epoch 9/20\n",
      "0s - loss: 0.1393\n",
      "Epoch 10/20\n",
      "0s - loss: 0.1151\n",
      "Epoch 11/20\n",
      "0s - loss: 0.0952\n",
      "Epoch 12/20\n",
      "0s - loss: 0.0812\n",
      "Epoch 13/20\n",
      "0s - loss: 0.0711\n",
      "Epoch 14/20\n",
      "0s - loss: 0.0642\n",
      "Epoch 15/20\n",
      "0s - loss: 0.0593\n",
      "Epoch 16/20\n",
      "0s - loss: 0.0559\n",
      "Epoch 17/20\n",
      "0s - loss: 0.0537\n",
      "Epoch 18/20\n",
      "0s - loss: 0.0527\n",
      "Epoch 19/20\n",
      "0s - loss: 0.0516\n",
      "Epoch 20/20\n",
      "0s - loss: 0.0502\n"
     ]
    },
    {
     "data": {
      "text/plain": [
       "<keras.callbacks.History at 0x7fb7f22c7d30>"
      ]
     },
     "execution_count": 57,
     "metadata": {},
     "output_type": "execute_result"
    }
   ],
   "source": [
    "#..................................\n",
    "\n"
   ]
  },
  {
   "cell_type": "code",
   "execution_count": 64,
   "metadata": {
    "collapsed": false
   },
   "outputs": [
    {
     "name": "stdout",
     "output_type": "stream",
     "text": [
      "0.184413\n",
      "0.8979603617\n"
     ]
    }
   ],
   "source": []
  },
  {
   "cell_type": "markdown",
   "metadata": {},
   "source": [
    "## Classification\n",
    "\n",
    "Let's now do classification. The target is a categorical vector. It will need to be transformed to an array of dummies. This transform is also called on-hot encoding."
   ]
  },
  {
   "cell_type": "code",
   "execution_count": 74,
   "metadata": {
    "collapsed": false
   },
   "outputs": [
    {
     "name": "stdout",
     "output_type": "stream",
     "text": [
      "[[ 0.  0.  1.]\n",
      " [ 0.  1.  0.]\n",
      " [ 1.  0.  0.]\n",
      " [ 0.  0.  1.]\n",
      " [ 1.  0.  0.]\n",
      " [ 1.  0.  0.]\n",
      " [ 1.  0.  0.]\n",
      " [ 0.  1.  0.]\n",
      " [ 0.  0.  1.]\n",
      " [ 0.  0.  1.]]\n"
     ]
    }
   ],
   "source": [
    "# Inputs\n",
    "X = numpy.array(data.data, dtype='float32')\n",
    "# Output\n",
    "y = numpy.array(data.target, dtype='int32')\n",
    "X_train, X_val, y_train, y_val = train_test_split(X, y, test_size=1/3, random_state=999)\n",
    "\n",
    "# One-hot Indicator array for classes\n",
    "from sklearn.preprocessing import OneHotEncoder\n",
    "onehot = OneHotEncoder(sparse=False)\n",
    "# One hot encoder needs a 2D array\n",
    "Y_train = onehot.fit_transform(y_train.reshape((y_train.shape[0], 1)))\n",
    "Y_val   = onehot.transform(y_val.reshape((y_val.shape[0], 1)))\n",
    "\n",
    "print(Y_train[:10,:])"
   ]
  },
  {
   "cell_type": "markdown",
   "metadata": {},
   "source": [
    "### Exercise 7.5\n",
    "\n",
    "Define a multilayer perceptron with the following specifications:\n",
    "- Hidden layer 1: size 16, activation: tanh\n",
    "- Hidden layer 2: size 16, activation: tanh\n",
    "- Output layer: size 3, activation: softmax\n",
    "\n",
    "NB: softmax is a generalization of inverse logit to more than 2 classes. It converts class scores to class probabilities, while making sure than they sum up to 1:\n",
    "\n",
    "```\n",
    "def softmax(x):\n",
    "    z = numpy.exp(x)\n",
    "    return z/numpy.sum(z)\n",
    "```\n",
    "\n",
    "Compile it using the following specifications:\n",
    "- optimizer: Adam\n",
    "- loss: categorical_crossentropy\n",
    "\n",
    "Train the network, and try to find a good value of learning rate by monitoring the loss.\n",
    "Use the method `.predict_classes` to predict the targets on validation data.\n",
    "Compute the classification accuracy on validation data."
   ]
  },
  {
   "cell_type": "code",
   "execution_count": 81,
   "metadata": {
    "collapsed": false
   },
   "outputs": [
    {
     "name": "stdout",
     "output_type": "stream",
     "text": [
      "Epoch 1/10\n",
      "0s - loss: 0.9143\n",
      "Epoch 2/10\n",
      "0s - loss: 0.6538\n",
      "Epoch 3/10\n",
      "0s - loss: 0.5052\n",
      "Epoch 4/10\n",
      "0s - loss: 0.4263\n",
      "Epoch 5/10\n",
      "0s - loss: 0.3672\n",
      "Epoch 6/10\n",
      "0s - loss: 0.3001\n",
      "Epoch 7/10\n",
      "0s - loss: 0.2524\n",
      "Epoch 8/10\n",
      "0s - loss: 0.2245\n",
      "Epoch 9/10\n",
      "0s - loss: 0.2005\n",
      "Epoch 10/10\n",
      "0s - loss: 0.1904\n"
     ]
    },
    {
     "data": {
      "text/plain": [
       "<keras.callbacks.History at 0x7fb7f198b9b0>"
      ]
     },
     "execution_count": 81,
     "metadata": {},
     "output_type": "execute_result"
    }
   ],
   "source": [
    "#.....................................\n"
   ]
  },
  {
   "cell_type": "code",
   "execution_count": 82,
   "metadata": {
    "collapsed": false
   },
   "outputs": [
    {
     "name": "stdout",
     "output_type": "stream",
     "text": [
      "0.98\n"
     ]
    }
   ],
   "source": [
    "#.....................................\n"
   ]
  },
  {
   "cell_type": "markdown",
   "metadata": {},
   "source": [
    "### Exercise 7.6\n",
    "\n",
    "\n",
    "Train a neural network classifier on the handwritten digits dataset. \n",
    "This dataset comes with scikit learn and can be accessed as follows:"
   ]
  },
  {
   "cell_type": "code",
   "execution_count": 95,
   "metadata": {
    "collapsed": false
   },
   "outputs": [
    {
     "data": {
      "image/png": "[encoded data removed]",
      "text/plain": [
       "<matplotlib.figure.Figure at 0x7fb7f0b756a0>"
      ]
     },
     "metadata": {},
     "output_type": "display_data"
    }
   ],
   "source": [
    "from sklearn.datasets import load_digits\n",
    "digits = load_digits()\n",
    "images_and_labels = list(zip(digits.images, digits.target))\n",
    "\n",
    "for index, (image, label) in enumerate(images_and_labels[:10]):\n",
    "    pylab.subplot(2, 5, index + 1)\n",
    "    pylab.axis('off')\n",
    "    pylab.imshow(image,cmap=plt.cm.gray_r)\n",
    "    pylab.title('%i' % label)"
   ]
  },
  {
   "cell_type": "markdown",
   "metadata": {},
   "source": [
    "The targets are in `digits.target` and the pixel values flattened into an array are in `digits.data`.\n",
    "\n",
    "Train a classifier on the first 1000 of the images, and evaluate on the rest. \n",
    "Before testing the neural network model, check the classification error rate of a logistic regression classifier as a baseline.\n",
    "\n",
    "\n",
    "Remember to convert the targets to the one-hot representation for training the neural network.\n",
    "\n",
    "Some things to try when training a neural network model for this dataset:\n",
    "\n",
    "- start with two or three hidden layers\n",
    "- use between 32 to 128 units in each layer\n",
    "- try different learning rates in the Adam optimizer (lr=0.001, lr=0.0001) and monitor the loss function\n",
    "- train for at least 100 epochs\n",
    "- try the `relu` activation function instead of `tanh`\n",
    "\n"
   ]
  },
  {
   "cell_type": "code",
   "execution_count": 107,
   "metadata": {
    "collapsed": false
   },
   "outputs": [
    {
     "name": "stdout",
     "output_type": "stream",
     "text": [
      "0.0740276035132\n"
     ]
    }
   ],
   "source": [
    "# .....................\n"
   ]
  },
  {
   "cell_type": "code",
   "execution_count": 109,
   "metadata": {
    "collapsed": false
   },
   "outputs": [
    {
     "data": {
      "text/plain": [
       "<keras.callbacks.History at 0x7fb7ee49f828>"
      ]
     },
     "execution_count": 109,
     "metadata": {},
     "output_type": "execute_result"
    }
   ],
   "source": [
    "#.....................................\n",
    "\n"
   ]
  },
  {
   "cell_type": "code",
   "execution_count": 110,
   "metadata": {
    "collapsed": false
   },
   "outputs": [
    {
     "name": "stdout",
     "output_type": "stream",
     "text": [
      "0.0627352572146\n"
     ]
    }
   ],
   "source": []
  },
  {
   "cell_type": "code",
   "execution_count": null,
   "metadata": {
    "collapsed": true
   },
   "outputs": [],
   "source": []
  }
 ],
 "metadata": {
  "kernelspec": {
   "display_name": "Python 3",
   "language": "python",
   "name": "python3"
  },
  "language_info": {
   "codemirror_mode": {
    "name": "ipython",
    "version": 3
   },
   "file_extension": ".py",
   "mimetype": "text/x-python",
   "name": "python",
   "nbconvert_exporter": "python",
   "pygments_lexer": "ipython3",
   "version": "3.4.2"
  }
 },
 "nbformat": 4,
 "nbformat_minor": 0
}
